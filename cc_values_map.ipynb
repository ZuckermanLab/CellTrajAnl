{
 "cells": [
  {
   "cell_type": "code",
   "execution_count": 1,
   "id": "672f9f73-1c5b-4023-b03d-905d9a6bc31c",
   "metadata": {},
   "outputs": [],
   "source": [
    "import matplotlib\n",
    "import matplotlib.pyplot as plt\n",
    "import numpy as np\n",
    "import sys, os, time, math\n",
    "sys.path.append('/home/groups/ZuckermanLab/jalim/instalLocal/celltraj/celltraj')\n",
    "import jcTrajectory_CP as cellTraj\n",
    "import h5py, umap, scipy, json\n",
    "import string, ast\n",
    "from datetime import date\n",
    "from mpl_toolkits.axes_grid1 import make_axes_locatable"
   ]
  },
  {
   "cell_type": "code",
   "execution_count": 3,
   "id": "64b0e3fb-b76b-41fc-af6c-e345a4517459",
   "metadata": {},
   "outputs": [],
   "source": [
    "trajl = 17 # Trajectory Length for morphodynamical trajectory analysis\n",
    "wellsInfo = 'Awells'\n",
    "conditions = ['A2'] # LIGANDS or CONDITIONS\n",
    "tmSet = ['EGF1']\n",
    "n_conditions = len(tmSet) # Total number of Ligand Conditions\n",
    "today = date.today()\n",
    "date2day = today.strftime(\"%b%d-%Y\")\n",
    "sysName = 'LI204601_P'\n",
    "figid = f\"{sysName}_tlen{trajl-1}_{date2day}\""
   ]
  },
  {
   "cell_type": "code",
   "execution_count": 4,
   "id": "1a879dfb-17e9-433c-9006-9f3c16d53fef",
   "metadata": {},
   "outputs": [],
   "source": [
    "# Get Cross correlations & respective frame numbers along all single-cell trajectories\n",
    "def get_cross_corr_all_single_cell_trajs(filename):\n",
    "      cross_corr_sctraj = []\n",
    "      frame_num_sctraj = []\n",
    "      with open(filename, 'r') as file_in:\n",
    "          # Create an iterator over the file lines \n",
    "          file_iter = iter(file_in)\n",
    "          try:\n",
    "              while True:\n",
    "                  # Read two lines at a time: Cross correlations & the corresponding frame numbers\n",
    "                  line1 = next(file_iter).strip()\n",
    "                  if line1:\n",
    "                          data = ast.literal_eval(line1)\n",
    "                          cross_corr_sctraj.append(data)\n",
    "                          line2 = next(file_iter).strip()\n",
    "                          # Parse line2 as a list of integers\n",
    "                          frame_numbers = ast.literal_eval(line2)   \n",
    "                          frame_num_sctraj.append(frame_numbers)\n",
    "          except StopIteration:\n",
    "              # End of file reached\n",
    "              pass\n",
    "      cross_corr_all_sctraj_file = cross_corr_sctraj\n",
    "      frame_num_all_sctraj_file = frame_num_sctraj\n",
    "      \n",
    "      return cross_corr_all_sctraj_file, frame_num_all_sctraj_file"
   ]
  },
  {
   "cell_type": "code",
   "execution_count": 5,
   "id": "e896d537-cdd3-47d5-b4d9-401dd78e65a4",
   "metadata": {},
   "outputs": [],
   "source": [
    "# Get cross-correlation values along all single-cell trajectories (sorted as per trajectory length) \n",
    "cc_path = '/home/groups/ZuckermanLab/jalim/LI204601_INCUCYTE/dcompCCtraj_states/'\n",
    "cc_filename = f\"{cc_path}{sysName}_{conditions[0]}_1.dat\"\n",
    "cross_correlations, frame_numbers = get_cross_corr_all_single_cell_trajs(cc_filename)"
   ]
  },
  {
   "cell_type": "code",
   "execution_count": 23,
   "id": "58925e28-e016-4db2-9205-20c077a50cd1",
   "metadata": {},
   "outputs": [
    {
     "data": {
      "text/plain": [
       "<matplotlib.collections.PathCollection at 0x7facd1535370>"
      ]
     },
     "execution_count": 23,
     "metadata": {},
     "output_type": "execute_result"
    },
    {
     "data": {
      "image/png": "[encoded data removed]",
      "text/plain": [
       "<Figure size 640x480 with 1 Axes>"
      ]
     },
     "metadata": {},
     "output_type": "display_data"
    }
   ],
   "source": [
    "test_index = 274\n",
    "plt.scatter(frame_numbers[test_index], cross_correlations[test_index])"
   ]
  },
  {
   "cell_type": "code",
   "execution_count": 6,
   "id": "eee9d6ac-63fb-4afd-9caa-c17fdea2d599",
   "metadata": {
    "scrolled": true
   },
   "outputs": [],
   "source": [
    "cc_micro_path = \"/home/groups/ZuckermanLab/jalim/LI204601_INCUCYTE/micStatesContourCCvals/\"\n",
    "cc_micro_fn = \"cc_vals_by_microstates_LI204601_P_tl16AllWells_Apr29-2024_10.json\"\n",
    "cc_micro_info = cc_micro_path + cc_micro_fn"
   ]
  },
  {
   "cell_type": "code",
   "execution_count": 7,
   "id": "b85ee36b-47ca-4cdf-8b6f-ad2ffd0071ad",
   "metadata": {},
   "outputs": [],
   "source": [
    "with open(cc_micro_info, 'r') as fp:\n",
    "    cc_values_all_conditions = json.load(fp)"
   ]
  },
  {
   "cell_type": "code",
   "execution_count": 14,
   "id": "7f37627e-66b0-4e45-b386-8e23db9870ac",
   "metadata": {
    "scrolled": true
   },
   "outputs": [
    {
     "name": "stdout",
     "output_type": "stream",
     "text": [
      "5942\n",
      "409\n",
      "1398\n",
      "358\n",
      "1012\n",
      "889\n",
      "256\n",
      "2185\n",
      "1631\n",
      "4021\n",
      "3250\n",
      "1992\n",
      "7092\n",
      "3022\n",
      "3682\n",
      "5116\n",
      "1889\n",
      "340\n",
      "1595\n",
      "2607\n",
      "136\n",
      "7257\n",
      "1856\n",
      "7220\n",
      "3107\n",
      "4618\n",
      "709\n",
      "85\n",
      "309\n",
      "298\n",
      "2479\n",
      "1144\n",
      "5240\n",
      "2469\n",
      "3086\n",
      "6196\n",
      "182\n",
      "159\n",
      "3086\n",
      "653\n",
      "10439\n",
      "227\n",
      "2642\n",
      "495\n",
      "922\n",
      "4815\n",
      "101\n",
      "1568\n",
      "11191\n",
      "562\n",
      "6989\n",
      "277\n",
      "1425\n",
      "472\n",
      "877\n",
      "950\n",
      "239\n",
      "2081\n",
      "1726\n",
      "4095\n",
      "781\n",
      "1748\n",
      "2459\n",
      "1483\n",
      "3140\n",
      "1976\n",
      "2860\n",
      "201\n",
      "1591\n",
      "2409\n",
      "148\n",
      "7311\n",
      "1545\n",
      "6593\n",
      "3510\n",
      "4363\n",
      "663\n",
      "91\n",
      "149\n",
      "507\n",
      "2283\n",
      "1929\n",
      "4481\n",
      "2841\n",
      "3901\n",
      "6749\n",
      "364\n",
      "323\n",
      "3954\n",
      "874\n",
      "10074\n",
      "279\n",
      "2301\n",
      "419\n",
      "966\n",
      "3357\n",
      "66\n",
      "1499\n",
      "9825\n",
      "439\n",
      "492\n",
      "4021\n",
      "4409\n",
      "5732\n",
      "3331\n",
      "4473\n",
      "204\n",
      "43\n",
      "396\n",
      "1380\n",
      "751\n",
      "1109\n",
      "770\n",
      "278\n",
      "1837\n",
      "352\n",
      "1864\n",
      "265\n",
      "510\n",
      "6314\n",
      "2791\n",
      "1571\n",
      "4770\n",
      "2876\n",
      "3066\n",
      "5385\n",
      "168\n",
      "132\n",
      "1464\n",
      "1755\n"
     ]
    }
   ],
   "source": [
    "for condition, cc_values_per_condition in cc_values_all_conditions.items():\n",
    "    for microstate, cc_values_per_microstate in enumerate(cc_values_per_condition):\n",
    "        print(len(cc_values_per_microstate))"
   ]
  },
  {
   "cell_type": "code",
   "execution_count": null,
   "id": "d375667a-8da7-4a5b-81e7-cdb670693cf6",
   "metadata": {},
   "outputs": [],
   "source": []
  }
 ],
 "metadata": {
  "kernelspec": {
   "display_name": "Single Cell dynMorph Analysis",
   "language": "python",
   "name": "sctmd"
  },
  "language_info": {
   "codemirror_mode": {
    "name": "ipython",
    "version": 3
   },
   "file_extension": ".py",
   "mimetype": "text/x-python",
   "name": "python",
   "nbconvert_exporter": "python",
   "pygments_lexer": "ipython3",
   "version": "3.9.19"
  }
 },
 "nbformat": 4,
 "nbformat_minor": 5
}
