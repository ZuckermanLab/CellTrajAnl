{
 "cells": [
  {
   "cell_type": "code",
   "execution_count": 1,
   "id": "672f9f73-1c5b-4023-b03d-905d9a6bc31c",
   "metadata": {},
   "outputs": [],
   "source": [
    "import matplotlib\n",
    "import matplotlib.pyplot as plt\n",
    "import numpy as np\n",
    "import sys, os, time, math\n",
    "sys.path.append('/home/groups/ZuckermanLab/jalim/instalLocal/celltraj/celltraj')\n",
    "import jcTrajectory_CP as cellTraj\n",
    "import h5py, umap, scipy, json\n",
    "import string, ast, re\n",
    "from datetime import date\n",
    "from mpl_toolkits.axes_grid1 import make_axes_locatable"
   ]
  },
  {
   "cell_type": "code",
   "execution_count": 2,
   "id": "64b0e3fb-b76b-41fc-af6c-e345a4517459",
   "metadata": {},
   "outputs": [],
   "source": [
    "trajl = 17 # Trajectory Length for morphodynamical trajectory analysis\n",
    "wellsInfo = 'Awells'\n",
    "conditions = ['A2'] # LIGANDS or CONDITIONS\n",
    "tmSet = ['EGF1']\n",
    "n_conditions = len(tmSet) # Total number of Ligand Conditions\n",
    "today = date.today()\n",
    "date2day = today.strftime(\"%b%d-%Y\")\n",
    "sysName = 'LI204601_P'\n",
    "figid = sysName+'_tlen'+str(trajl)+'_'+date2day"
   ]
  },
  {
   "cell_type": "code",
   "execution_count": 3,
   "id": "b3968054-b6bc-4ac3-b67b-974946f3f97b",
   "metadata": {},
   "outputs": [],
   "source": [
    "def correct_and_combine_json(file_info):\n",
    "    try:\n",
    "        # Read the entire file content\n",
    "        with open(file_info, 'r', encoding='utf-8') as file:\n",
    "            content = file.read().strip()\n",
    "\n",
    "        # Correct JSON formatting to ensure proper JSON array format\n",
    "        content = re.sub(r'}\\s*{', '},{', content)\n",
    "\n",
    "        # Encapsulate the corrected string in square brackets to form a valid JSON array\n",
    "        combined_json_string = '[' + content + ']'\n",
    "\n",
    "        # Load as JSON to verify validity\n",
    "        json_objects = json.loads(combined_json_string)\n",
    "\n",
    "        # Create a new dictionary to store all data\n",
    "        combined_data = {}\n",
    "        for obj in json_objects:\n",
    "            combined_data.update(obj)  # Use update to merge dictionaries\n",
    "\n",
    "        new_file_info = file_info[:-5] + '_new.json'\n",
    "        # Write the combined and correctly formatted JSON to a new file\n",
    "        with open(new_file_info, 'w', encoding='utf-8') as out_file:\n",
    "            json.dump(combined_data, out_file, indent=4)\n",
    "\n",
    "        print(\"JSON corrected and written to new file.\")\n",
    "        return True\n",
    "    except json.JSONDecodeError as e:\n",
    "        print(f\"JSON Decode Error: {e}\")\n",
    "        return False\n",
    "    except Exception as e:\n",
    "        print(f\"An unexpected error occurred: {e}\")\n",
    "        return False"
   ]
  },
  {
   "cell_type": "code",
   "execution_count": 4,
   "id": "eee9d6ac-63fb-4afd-9caa-c17fdea2d599",
   "metadata": {
    "scrolled": true
   },
   "outputs": [
    {
     "name": "stdout",
     "output_type": "stream",
     "text": [
      "JSON corrected and written to new file.\n",
      "JSON corrected and written to new file.\n",
      "JSON corrected and written to new file.\n",
      "JSON corrected and written to new file.\n",
      "JSON corrected and written to new file.\n",
      "JSON corrected and written to new file.\n",
      "JSON corrected and written to new file.\n",
      "JSON corrected and written to new file.\n",
      "JSON corrected and written to new file.\n",
      "JSON corrected and written to new file.\n",
      "JSON corrected and written to new file.\n",
      "JSON corrected and written to new file.\n",
      "JSON corrected and written to new file.\n",
      "JSON corrected and written to new file.\n",
      "JSON corrected and written to new file.\n",
      "JSON corrected and written to new file.\n",
      "JSON corrected and written to new file.\n",
      "JSON corrected and written to new file.\n",
      "JSON corrected and written to new file.\n",
      "JSON corrected and written to new file.\n",
      "JSON corrected and written to new file.\n",
      "JSON corrected and written to new file.\n",
      "JSON corrected and written to new file.\n",
      "JSON corrected and written to new file.\n",
      "JSON corrected and written to new file.\n",
      "JSON corrected and written to new file.\n",
      "JSON corrected and written to new file.\n",
      "JSON corrected and written to new file.\n",
      "JSON corrected and written to new file.\n",
      "JSON corrected and written to new file.\n",
      "JSON corrected and written to new file.\n",
      "JSON corrected and written to new file.\n",
      "JSON corrected and written to new file.\n",
      "JSON corrected and written to new file.\n",
      "JSON corrected and written to new file.\n"
     ]
    }
   ],
   "source": [
    "cc_micro_path = \"/home/groups/ZuckermanLab/jalim/LI204601_INCUCYTE/micStatesContourCCvals/\"\n",
    "\n",
    "microstates = np.array([10, 25, 50, 100, 150, 200, 250])\n",
    "snippet_lengths = np.array([8, 16, 24, 32, 40])\n",
    "\n",
    "for lengths in snippet_lengths:\n",
    "    for states in microstates:\n",
    "        #cc_micro_fn = f\"cc_vals_by_microstates_LI204601_P_tl{lengths}AllWells_Apr29-2024_{states}.json\"\n",
    "        cc_micro_fn = f\"umap_coords_by_microstates_LI204601_P_tl{lengths}AllWells_Apr29-2024_{states}.json\"\n",
    "        cc_micro_info = cc_micro_path + cc_micro_fn\n",
    "        correct_and_combine_json(cc_micro_info)"
   ]
  },
  {
   "cell_type": "code",
   "execution_count": null,
   "id": "7f37627e-66b0-4e45-b386-8e23db9870ac",
   "metadata": {},
   "outputs": [],
   "source": []
  }
 ],
 "metadata": {
  "kernelspec": {
   "display_name": "Single Cell dynMorph Analysis",
   "language": "python",
   "name": "sctmd"
  },
  "language_info": {
   "codemirror_mode": {
    "name": "ipython",
    "version": 3
   },
   "file_extension": ".py",
   "mimetype": "text/x-python",
   "name": "python",
   "nbconvert_exporter": "python",
   "pygments_lexer": "ipython3",
   "version": "3.9.19"
  }
 },
 "nbformat": 4,
 "nbformat_minor": 5
}
