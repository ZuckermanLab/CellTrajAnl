{
 "cells": [
  {
   "cell_type": "code",
   "execution_count": 1,
   "id": "672f9f73-1c5b-4023-b03d-905d9a6bc31c",
   "metadata": {},
   "outputs": [],
   "source": [
    "import matplotlib\n",
    "import matplotlib.pyplot as plt\n",
    "import numpy as np\n",
    "import sys, os, time, math\n",
    "sys.path.append('/home/groups/ZuckermanLab/jalim/instalLocal/celltraj/celltraj')\n",
    "import jcTrajectory_CP as cellTraj\n",
    "import h5py, pickle, subprocess\n",
    "import umap, scipy, json\n",
    "from csaps import csaps\n",
    "import string, ast \n",
    "from joblib import dump, load\n",
    "from datetime import date\n",
    "from mpl_toolkits.axes_grid1 import make_axes_locatable"
   ]
  },
  {
   "cell_type": "code",
   "execution_count": 2,
   "id": "64b0e3fb-b76b-41fc-af6c-e345a4517459",
   "metadata": {},
   "outputs": [],
   "source": [
    "trajl = 9 # Trajectory Length for morphodynamical trajectory analysis\n",
    "wellsInfo = 'Awells'\n",
    "conditions = ['A2'] # LIGANDS or CONDITIONS\n",
    "tmSet = ['EGF1']\n",
    "n_conditions = len(tmSet) # Total number of Ligand Conditions\n",
    "today = date.today()\n",
    "date2day = today.strftime(\"%b%d-%Y\")\n",
    "sysName = 'LI204601_P'\n",
    "figid = sysName+'_tlen'+str(trajl)+'_'+date2day"
   ]
  },
  {
   "cell_type": "code",
   "execution_count": 3,
   "id": "573ebe5b-10e7-4c89-a4e1-9f014ac6416d",
   "metadata": {},
   "outputs": [],
   "source": [
    "# Indices for the ligands \n",
    "inds_tmSet = [i for i in range(n_conditions)]\n",
    "inds_tmSet = np.array(inds_tmSet).astype(int)\n",
    "nfovs = 1\n",
    "fovs = [i for i in range(1, nfovs + 1)]\n",
    "fovs = np.array(fovs).astype(int)\n",
    "dateSet = ['']\n",
    "pathSet = ['/home/groups/ZuckermanLab/jalim/LI204601_INCUCYTE/segsCellPose/bayesianTrackTest/']\n",
    "imagingSet = [0 for i in range(n_conditions)]\n",
    "modelList = [None]*(nfovs*(n_conditions))\n",
    "modelList_conditions = np.zeros(nfovs*(n_conditions)).astype(int)"
   ]
  },
  {
   "cell_type": "code",
   "execution_count": 4,
   "id": "0bf28618-ac83-4dda-8632-e4b99d9686d3",
   "metadata": {},
   "outputs": [
    {
     "name": "stdout",
     "output_type": "stream",
     "text": [
      "Models:  /home/groups/ZuckermanLab/jalim/LI204601_INCUCYTE/segsCellPose/bayesianTrackTest/LI204601_P_A2_1\n"
     ]
    }
   ],
   "source": [
    "i = 0\n",
    "icond = 0\n",
    "for cond in conditions:\n",
    "    modelList_conditions[i] = icond\n",
    "    modelList[i] = pathSet[imagingSet[icond]]+sysName+'_'+cond+'_'+str(fovs[0])+dateSet[imagingSet[icond]]\n",
    "    print(\"Models: \",modelList[i])\n",
    "    i = i + 1\n",
    "    icond = icond + 1\n",
    "\n",
    "nmodels = len(modelList)\n",
    "modelSet = [None]*nmodels\n",
    "indgood_models = np.array([]).astype(int)"
   ]
  },
  {
   "cell_type": "code",
   "execution_count": 5,
   "id": "1186e6e6-bcfe-4f25-b1fb-74693993ad78",
   "metadata": {},
   "outputs": [
    {
     "name": "stdout",
     "output_type": "stream",
     "text": [
      "loaded /home/groups/ZuckermanLab/jalim/LI204601_INCUCYTE/segsCellPose/bayesianTrackTest/LI204601_P_A2_1.obj with 51054 cells\n"
     ]
    }
   ],
   "source": [
    "for i in range(nmodels):\n",
    "    try:\n",
    "        objFile = modelList[i]+'.obj'\n",
    "        objFileHandler = open(objFile,'rb')\n",
    "        modelSet[i] = pickle.load(objFileHandler)\n",
    "        print('loaded '+objFile+' with '+str(modelSet[i].cells_indSet.size)+' cells')\n",
    "        objFileHandler.close()\n",
    "        test = len(modelSet[i].linSet)\n",
    "        indgood_models = np.append(indgood_models,i)\n",
    "    except:\n",
    "        print(\"ERROR in reading *.obj files\")\n",
    "        sys.exit(0)"
   ]
  },
  {
   "cell_type": "code",
   "execution_count": 6,
   "id": "f3cb6c82-bd37-4b87-85e0-1121406521c0",
   "metadata": {},
   "outputs": [],
   "source": [
    "n_frames = 193 # Total number of frames (image snapshots) in one condition per FOVs\n",
    "cellnumber_stdSet = np.ones(nmodels)*np.inf\n",
    "# range of frame indices where cell numbers are higher: ~70-98%\n",
    "sframe = 70.*n_frames/100.; sframe = math.ceil(sframe)\n",
    "eframe = 98.5*n_frames/100.; eframe = math.ceil(eframe)\n",
    "cellnumber_frames = np.arange(sframe, eframe).astype(int)\n",
    "cellnumber_std_cut = .50 # This was set to 0.10 by Jeremy \n",
    "frames = np.arange(n_frames)\n",
    "# Abscissas at which smoothing will be done using CSAPS package\n",
    "abSmooth = np.linspace(frames[0], frames[-1], 10000)"
   ]
  },
  {
   "cell_type": "code",
   "execution_count": 7,
   "id": "ec51aca4-8c01-491d-a585-ca8c22f84243",
   "metadata": {},
   "outputs": [],
   "source": [
    "for i in indgood_models:\n",
    "    ncells = np.zeros(n_frames)\n",
    "    ncells_smooth = np.zeros_like(ncells)\n",
    "    for iS in range(n_frames):\n",
    "        ncells[iS] = np.sum(modelSet[i].cells_frameSet == iS)\n",
    "    # Cubic Spline Approximation (CSAPS) to smoothen the data\n",
    "    splfov = csaps(frames, ncells/ncells[0], abSmooth, smooth = 0.98) # Scaled by ncells[0] to avoid large numbers\n",
    "    ncells_smooth = splfov*ncells[0] # smoothened cell numbers reverse scaled back to original\n",
    "    cellnumber_std = np.std(ncells[cellnumber_frames] - ncells_smooth[cellnumber_frames])/np.mean(ncells[cellnumber_frames])\n",
    "    cellnumber_stdSet[i] = cellnumber_std # Standard Deviation in Cell Numbers\t\t"
   ]
  },
  {
   "cell_type": "code",
   "execution_count": 8,
   "id": "ecdaec06-322c-49db-95dd-908ee14e33cf",
   "metadata": {},
   "outputs": [],
   "source": [
    "indhigh_std = np.where(cellnumber_stdSet > cellnumber_std_cut)[0]\n",
    "indgood_models = np.setdiff1d(indgood_models, indhigh_std)\n",
    "\n",
    "# get cell counts\n",
    "n_conds = len(tmSet)\n",
    "inds_tmSet_models = np.zeros(nmodels).astype(int)\n",
    "inds_imagingSet_models = np.zeros(nmodels).astype(int)\n",
    "i = 0\n",
    "icond = 0\n",
    "for cond in conditions:\n",
    "    inds_tmSet_models[i] = inds_tmSet[icond] # Assign indices \"tmSet\" to all FOVs\n",
    "    inds_imagingSet_models[i] = imagingSet[icond]\n",
    "    icond = icond + 1"
   ]
  },
  {
   "cell_type": "code",
   "execution_count": 9,
   "id": "18dd83b6-3f21-4ba4-a0f4-3bba0626a7ed",
   "metadata": {},
   "outputs": [],
   "source": [
    "for i in indgood_models:\n",
    "    if inds_imagingSet_models[i] == 0:\n",
    "        modelSet[i].Xf[np.isnan(modelSet[i].Xf)] = 0.0 #just replace with zeros for now? Not sure best..."
   ]
  },
  {
   "cell_type": "code",
   "execution_count": 10,
   "id": "c2d04cff-6e16-4a08-ab86-c70e19880421",
   "metadata": {},
   "outputs": [],
   "source": [
    "nfeat_com = 3\n",
    "Xf_com0 = np.zeros((0, nfeat_com))\n",
    "for i in indgood_models:\n",
    "    if inds_imagingSet_models[i] == 0:\n",
    "        Xf_com0 = np.append(Xf_com0,modelSet[i].Xf_com, axis = 0)\n",
    "\n",
    "av_dx = np.nanmean(Xf_com0[:, 0])\n",
    "std_dx = np.nanstd(Xf_com0[:, 0])\n",
    "for i in indgood_models:\n",
    "    modelSet[i].Xf_com[:, 0] = (modelSet[i].Xf_com[:, 0] - av_dx)/std_dx"
   ]
  },
  {
   "cell_type": "code",
   "execution_count": 11,
   "id": "875bd2f1-ca97-4271-b2f3-899fedb5b975",
   "metadata": {},
   "outputs": [],
   "source": [
    "wctm = cellTraj.Trajectory() # import Trajectory object \n",
    "nfeat = modelSet[indgood_models[0]].Xf.shape[1]\n",
    "Xf = np.zeros((0, nfeat))\n",
    "indtreatment = np.array([])\n",
    "indcellSet = np.array([])\n",
    "for i in indgood_models:\n",
    "    if inds_imagingSet_models[i] == 0:\n",
    "        Xf = np.append(Xf, modelSet[i].Xf, axis = 0)\n",
    "        # Indices for each model for later access using them\n",
    "        indtreatment = np.append(indtreatment, i*np.ones(modelSet[i].Xf.shape[0])) \n",
    "        indcellSet = np.append(indcellSet, modelSet[i].cells_indSet)\n",
    "\n",
    "indtreatment = indtreatment.astype(int)\n",
    "indcellSet = indcellSet.astype(int)"
   ]
  },
  {
   "cell_type": "code",
   "execution_count": 12,
   "id": "54c2094d-6e2c-4996-9197-483f67f19870",
   "metadata": {},
   "outputs": [],
   "source": [
    "varCutOff = 10\n",
    "from sklearn.decomposition import PCA #we will use the sklearn package (intended for ease of use over performance/scalability)\n",
    "pca = PCA(n_components = varCutOff) #n_components specifies the number of principal components to extract from the covariance matrix\n",
    "pca.fit(Xf) #builds the covariance matrix and \"fits\" the principal components\n",
    "Xpca = pca.transform(Xf) #transforms the data into the pca representation\n",
    "nPCs = Xpca.shape[1]\n",
    "\n",
    "wctm.Xpca = Xpca; wctm.pca = pca\n",
    "for i in indgood_models:\n",
    "    if inds_imagingSet_models[i] == 0:\n",
    "        indsf = np.where(indtreatment == i)[0]\n",
    "        modelSet[i].Xpca = Xpca[indsf, :]\n",
    "\n",
    "indgood_models = indgood_models[np.where(inds_imagingSet_models[indgood_models] == 0)[0]]"
   ]
  },
  {
   "cell_type": "code",
   "execution_count": 13,
   "id": "a100986a-5af5-4272-87c1-92bfba4412e9",
   "metadata": {
    "scrolled": true
   },
   "outputs": [
    {
     "name": "stdout",
     "output_type": "stream",
     "text": [
      "tracked cell 50891, 25 tracks, 46600 left\n",
      "tracked cell 50763, 23 tracks, 42400 left\n",
      "tracked cell 50735, 51 tracks, 41500 left\n",
      "tracked cell 50076, 1 tracks, 37700 left\n",
      "tracked cell 49741, 1 tracks, 37600 left\n",
      "tracked cell 49307, 1 tracks, 37500 left\n",
      "tracked cell 49056, 18 tracks, 37400 left\n",
      "tracked cell 48763, 1 tracks, 37100 left\n",
      "tracked cell 48214, 1 tracks, 36900 left\n",
      "tracked cell 48008, 1 tracks, 36800 left\n",
      "tracked cell 47562, 1 tracks, 36500 left\n",
      "tracked cell 46286, 1 tracks, 35900 left\n",
      "tracked cell 46119, 3 tracks, 35700 left\n",
      "tracked cell 45624, 1 tracks, 35600 left\n",
      "tracked cell 42924, 7 tracks, 34200 left\n",
      "tracked cell 41889, 2 tracks, 33800 left\n",
      "tracked cell 41728, 1 tracks, 33700 left\n",
      "tracked cell 40948, 1 tracks, 33300 left\n",
      "tracked cell 39770, 1 tracks, 32900 left\n",
      "tracked cell 39018, 1 tracks, 32500 left\n",
      "tracked cell 38257, 1 tracks, 32300 left\n",
      "tracked cell 38063, 6 tracks, 32200 left\n",
      "tracked cell 37504, 1 tracks, 32000 left\n",
      "tracked cell 35855, 2 tracks, 31300 left\n",
      "tracked cell 33927, 2 tracks, 30800 left\n",
      "tracked cell 32093, 1 tracks, 30400 left\n",
      "tracked cell 31650, 1 tracks, 30300 left\n",
      "tracked cell 31229, 1 tracks, 30100 left\n",
      "tracked cell 30883, 1 tracks, 29900 left\n",
      "tracked cell 30677, 1 tracks, 29700 left\n",
      "tracked cell 30610, 1 tracks, 29500 left\n",
      "tracked cell 30485, 1 tracks, 29300 left\n",
      "tracked cell 30433, 1 tracks, 29200 left\n",
      "tracked cell 30393, 30 tracks, 28600 left\n",
      "tracked cell 30344, 22 tracks, 27400 left\n",
      "tracked cell 30284, 2 tracks, 26100 left\n",
      "tracked cell 30163, 7 tracks, 22700 left\n",
      "tracked cell 29620, 1 tracks, 20400 left\n",
      "tracked cell 28426, 1 tracks, 19700 left\n",
      "tracked cell 25404, 1 tracks, 17900 left\n",
      "tracked cell 25234, 1 tracks, 17800 left\n",
      "tracked cell 23430, 1 tracks, 16800 left\n",
      "tracked cell 23224, 14 tracks, 16700 left\n",
      "tracked cell 21422, 1 tracks, 15400 left\n",
      "tracked cell 20427, 108 tracks, 14800 left\n",
      "tracked cell 20043, 1 tracks, 14400 left\n",
      "tracked cell 18724, 1 tracks, 13100 left\n",
      "tracked cell 17030, 6 tracks, 11800 left\n",
      "tracked cell 14399, 1 tracks, 9900 left\n",
      "tracked cell 12567, 1 tracks, 8300 left\n",
      "tracked cell 12195, 2 tracks, 8100 left\n",
      "tracked cell 11922, 1 tracks, 7900 left\n",
      "tracked cell 11852, 13 tracks, 7700 left\n",
      "tracked cell 11151, 1 tracks, 6800 left\n",
      "tracked cell 10635, 24 tracks, 6300 left\n",
      "tracked cell 9112, 1 tracks, 5300 left\n",
      "tracked cell 8080, 1 tracks, 4400 left\n",
      "tracked cell 6358, 16 tracks, 3100 left\n",
      "tracked cell 3593, 1 tracks, 1100 left\n",
      "tracked cell 2900, 1 tracks, 700 left\n",
      "tracked cell 584, 3 tracks, 100 left\n",
      "tracked cell 13, 1 tracks, 0 left\n"
     ]
    }
   ],
   "source": [
    "self = wctm\n",
    "wctm.trajl = trajl\n",
    "all_trajSet = [None]*nmodels\n",
    "for i in indgood_models:\n",
    "    modelSet[i].get_unique_trajectories()\n",
    "    all_trajSet[i] = modelSet[i].trajectories.copy()"
   ]
  },
  {
   "cell_type": "code",
   "execution_count": 14,
   "id": "6a649de7-82e1-44b5-b262-faa1c101f433",
   "metadata": {},
   "outputs": [],
   "source": [
    "# Get snippets along with their full single-cell trajectory indices  \n",
    "def get_snippets_with_traj_inds(self, seg_length): \n",
    "    n_sctraj = len(self.trajectories) # Number of Single-Cell Trajectories \n",
    "    traj_segSet = np.zeros((0, seg_length)).astype(int)\n",
    "    ind_map_snippet_fulltraj = np.array([])\n",
    "    for ind_traj in range(n_sctraj):\n",
    "        cell_traj = self.trajectories[ind_traj] # Select a single-cell trajectory \n",
    "        traj_len = cell_traj.size\n",
    "        #print(\"Length of a Single-Cell Trajectory:\",traj_len)\n",
    "        if traj_len >= seg_length:\n",
    "            for ic in range(traj_len - seg_length + 1):\n",
    "                traj_seg = cell_traj[ic:ic+seg_length]\n",
    "                traj_segSet = np.append(traj_segSet, traj_seg[np.newaxis, :], axis = 0)\n",
    "                # Save indices of all snippets corresponding to \"FULL\" single-cell trajectory \n",
    "                ind_map_snippet_fulltraj = np.append(ind_map_snippet_fulltraj, ind_traj)\n",
    "                #print(\"Indices to map snippets to the full trajectory:\",ind_map_snippet_fulltraj)\n",
    "    return ind_map_snippet_fulltraj, traj_segSet"
   ]
  },
  {
   "cell_type": "code",
   "execution_count": 15,
   "id": "c4645c1f-ff8a-42b2-b904-e971abc80134",
   "metadata": {
    "scrolled": true
   },
   "outputs": [
    {
     "name": "stdout",
     "output_type": "stream",
     "text": [
      "building trajectory data for model 0...\n"
     ]
    }
   ],
   "source": [
    "# Single-cell trajectories over the dimensionally reduced cell features\n",
    "Xpcat = np.zeros((0, pca.n_components_*trajl + nfeat_com*trajl))\n",
    "indtreatment_traj = np.array([])\n",
    "indstack_traj = np.array([])\n",
    "indframes_traj = np.array([])\n",
    "indmodel_traj_snippets = np.array([])\n",
    "cellinds0_traj = np.array([])\n",
    "cellinds1_traj = np.array([])\n",
    "cb_ratio_traj = np.array([])\n",
    "for i in indgood_models:\n",
    "    print('building trajectory data for model {}...'.format(i))\n",
    "    modelSet[i].trajectories = all_trajSet[i].copy() # ALL Single-Cell trajectories \n",
    "    modelSet[i].trajl = trajl # Trajectory snippet length \n",
    "    # Get trajectory snippets of (all trajectories) a given length in a sliding window and mapped with single-cell trajectory indices \n",
    "    modelSet[i].snippet_map_fulltraj_inds, modelSet[i].traj = get_snippets_with_traj_inds(modelSet[i], trajl)\n",
    "    # Xpca (feature info) along the single-cell trajectory snippets, extracted directly from cell indices unique within a 'model' \n",
    "    data = modelSet[i].Xpca[modelSet[i].traj, :] \n",
    "    datacom = modelSet[i].Xf_com[modelSet[i].traj, :]\n",
    "    data = data.reshape(modelSet[i].traj.shape[0], modelSet[i].Xpca.shape[1]*trajl)\n",
    "    datacom = datacom.reshape(modelSet[i].traj.shape[0], modelSet[i].Xf_com.shape[1]*trajl)\n",
    "    data = np.append(data, datacom, axis = 1)\n",
    "    indgood = np.where(np.sum(np.isnan(data), axis = 1) == 0)[0] # Consider models as \"Good\" that don't have NaN in \"data\" \n",
    "    data = data[indgood, :]\n",
    "    modelSet[i].traj = modelSet[i].traj[indgood, :] # Cleaned trajectory snippets if any NaN \n",
    "    modelSet[i].snippet_map_fulltraj_inds = modelSet[i].snippet_map_fulltraj_inds[indgood]\n",
    "    # Store all trajectory snippets of a given length (picked in a sliding window) \n",
    "    Xpcat = np.append(Xpcat, data, axis = 0) \n",
    "    indtreatment_traj = np.append(indtreatment_traj, i*np.ones(data.shape[0])) # Indices of Treatments (Models) Along Trajectory Snippets \n",
    "    indstacks = modelSet[i].cells_imgfileSet[modelSet[i].traj[:, 0]]\n",
    "    indstack_traj = np.append(indstack_traj, indstacks)\n",
    "    indframes = modelSet[i].cells_frameSet[modelSet[i].traj[:, 0]].astype(int) # Frame index at the start of the snippet\n",
    "    indframes_traj = np.append(indframes_traj, indframes) # Starting Frame Indices of ALL snippets\n",
    "    indtraj_snippets = modelSet[i].snippet_map_fulltraj_inds\n",
    "    indmodel_traj_snippets = np.append(indmodel_traj_snippets, indtraj_snippets) # Save for all models: map of snippets to the sc trajectories\n",
    "    cellinds0 = modelSet[i].traj[:, 0] # Cell indices at the start of snippets \n",
    "    cellinds0_traj = np.append(cellinds0_traj, cellinds0)\n",
    "    cellinds1 = modelSet[i].traj[:, -1] # Cell indices at the end of snippets \n",
    "    cellinds1_traj = np.append(cellinds1_traj, cellinds1)\n",
    "    cb_ratio_traj = np.append(cb_ratio_traj, modelSet[i].Xf[cellinds1, 77])\n",
    "\n",
    "cellinds0_traj = cellinds0_traj.astype(int)\n",
    "cellinds1_traj = cellinds1_traj.astype(int)"
   ]
  },
  {
   "cell_type": "code",
   "execution_count": 16,
   "id": "40c0d815-3c44-424c-9f5c-7e9229a8fba8",
   "metadata": {},
   "outputs": [],
   "source": [
    "neigen_umap = 2\n",
    "reducer = umap.UMAP(n_neighbors=200, min_dist=0.1, n_components=neigen_umap, metric='euclidean')\n",
    "trans = reducer.fit(Xpcat)\n",
    "x_umap = trans.embedding_"
   ]
  },
  {
   "cell_type": "code",
   "execution_count": 17,
   "id": "ee71d132-dad1-493d-85f2-731ff7efb637",
   "metadata": {},
   "outputs": [],
   "source": [
    "neigen = Xpcat.shape[1] # If embedded trajectories aren't UMAP'ed \n",
    "inds_conditions = [None]*n_conds\n",
    "for imf in range(n_conds):\n",
    "    indmodels = np.intersect1d(indgood_models, np.where(inds_tmSet_models == imf)[0])\n",
    "    indstm = np.array([])\n",
    "    for imodel in indmodels:\n",
    "        indtm = np.where(indtreatment_traj == imodel)\n",
    "        indstm = np.append(indstm, indtm)\n",
    "    inds_conditions[imf] = indstm.astype(int).copy() # Condition (Model) specific trajectory snippet indices: Add up all FOVs\n",
    "    #print(inds_conditions[imf])"
   ]
  },
  {
   "cell_type": "code",
   "execution_count": 86,
   "id": "c67ef3a7-c20c-4949-8b93-d272230d019d",
   "metadata": {},
   "outputs": [],
   "source": [
    "##### Cluster single-cell trajectories of a given snippet length by using KMeans from deeptime \n",
    "from deeptime.clustering import KMeans\n",
    "n_clusters = 100\n",
    "model = KMeans(n_clusters = n_clusters,  # Place 200 cluster centers\n",
    "               init_strategy = 'kmeans++',  # kmeans++ initialization strategy\n",
    "               max_iter = 0,  # don't actually perform the optimization, just place centers\n",
    "               fixed_seed = 13)\n",
    "################################ Initial clustering ###############################\n",
    "clustering = model.fit(Xpcat).fetch_model() # If embedded trajectories aren't UMAP'ed \n",
    "\n",
    "model.initial_centers = clustering.cluster_centers\n",
    "model.max_iter = 5000\n",
    "clusters = model.fit(Xpcat).fetch_model() # If embedded trajectories aren't UMAP'ed \n",
    "wctm.clusterst = clusters"
   ]
  },
  {
   "cell_type": "markdown",
   "id": "a588ee08-d786-427e-a699-e971d06a9e8a",
   "metadata": {},
   "source": [
    "Map Trajectory Snippets on Microstates and Assign CC Values of The First Frames of Snippets"
   ]
  },
  {
   "cell_type": "code",
   "execution_count": 80,
   "id": "f7dc2e33-4bf9-4ee1-86c6-d117e4a35b1b",
   "metadata": {},
   "outputs": [],
   "source": [
    "# Consider frames only in the range of 24+-6, i.e., 18-30 hours -> frame numbers: 72-120\n",
    "# Note: images are collected at the interval of 15 minutes for 48 hours\n",
    "fl = 0\n",
    "fu = n_frames #fu = 120 \n",
    "indstw = np.where(np.logical_and(indframes_traj < fu, indframes_traj > fl))[0] # Indices "
   ]
  },
  {
   "cell_type": "code",
   "execution_count": 20,
   "id": "1a879dfb-17e9-433c-9006-9f3c16d53fef",
   "metadata": {},
   "outputs": [],
   "source": [
    "# Get Cross correlations & respective frame numbers along all single-cell trajectories\n",
    "def get_cross_corr_all_single_cell_trajs(filename):\n",
    "      cross_corr_sctraj = []\n",
    "      frame_num_sctraj = []\n",
    "      with open(filename, 'r') as file_in:\n",
    "          # Create an iterator over the file lines \n",
    "          file_iter = iter(file_in)\n",
    "          try:\n",
    "              while True:\n",
    "                  # Read two lines at a time: Cross correlations & the corresponding frame numbers\n",
    "                  line1 = next(file_iter).strip()\n",
    "                  if line1:\n",
    "                          data = ast.literal_eval(line1)\n",
    "                          cross_corr_sctraj.append(data)\n",
    "                          line2 = next(file_iter).strip()\n",
    "                          # Parse line2 as a list of integers\n",
    "                          frame_numbers = ast.literal_eval(line2)   \n",
    "                          frame_num_sctraj.append(frame_numbers)\n",
    "          except StopIteration:\n",
    "              # End of file reached\n",
    "              pass\n",
    "      cross_corr_all_sctraj_file = cross_corr_sctraj\n",
    "      frame_num_all_sctraj_file = frame_num_sctraj\n",
    "      \n",
    "      return cross_corr_all_sctraj_file, frame_num_all_sctraj_file"
   ]
  },
  {
   "cell_type": "code",
   "execution_count": 21,
   "id": "e896d537-cdd3-47d5-b4d9-401dd78e65a4",
   "metadata": {},
   "outputs": [],
   "source": [
    "# Get cross-correlation values along all single-cell trajectories (sorted as per trajectory length) \n",
    "cc_path = '/home/groups/ZuckermanLab/jalim/LI204601_INCUCYTE/dcompCCtraj_states/'\n",
    "cc_filename = f\"{cc_path}{sysName}_{conditions[0]}_1.dat\"\n",
    "cross_correlations, frame_numbers = get_cross_corr_all_single_cell_trajs(cc_filename)"
   ]
  },
  {
   "cell_type": "code",
   "execution_count": 100,
   "id": "21c37d0b-032a-4dfd-9463-b0bdd1c3b0f7",
   "metadata": {},
   "outputs": [],
   "source": [
    "n_microstates = n_clusters\n",
    "cc_values_by_microstates = [[[] for _ in range(n_microstates)] for _ in range(n_conditions)]\n",
    "for cond in range(n_conds):\n",
    "    indstm = inds_conditions[cond] # Condition Specific Indices\n",
    "    indstwm = np.intersect1d(indstm, indstw) # Indices of trajectory snippets within frame range (72 - 120)\n",
    "    x0 = Xpcat[indstwm, :] # keep trajectory snippets that are within the given frame range\n",
    "    ind_map_micro = clusters.transform(x0).astype(int)\n",
    "    for si in range(n_microstates):\n",
    "        ind_map = np.where(ind_map_micro == si)[0]\n",
    "        ind_map_Xpcat = indstwm[ind_map]\n",
    "        fid_micro_snippets = indframes_traj[ind_map_Xpcat].astype(int) # Map frame indices of snippets\n",
    "        indc_map_fulltraj_snippets = indmodel_traj_snippets[ind_map_Xpcat].astype(int) # Map Indices of Full Trajectory to Snippets \n",
    "        ################## Identify the \"FULL\" trajectory index and locate snippets within it ##################\n",
    "        for j, ind_fulltraj in enumerate(indc_map_fulltraj_snippets):\n",
    "            possible_indices = np.where(frame_numbers[ind_fulltraj] == fid_micro_snippets[j])  \n",
    "            indc_ccvals_traj = possible_indices[0][0]\n",
    "            #print(f'Indices of Entire Traj: {ind_fulltraj}, Indices of CC_traj: {indc_ccvals_traj}')\n",
    "            cc_vals = cross_correlations[ind_fulltraj][indc_ccvals_traj]\n",
    "            #print(f'CC values: {cc_vals}, Indices of Entire Traj: {ind_fulltraj}, Indices of CC trajectory: {indc_ccvals_traj}')\n",
    "            cc_values_by_microstates[cond][si].append(cc_vals)"
   ]
  },
  {
   "cell_type": "code",
   "execution_count": 107,
   "id": "d699ee0e-9992-401a-b861-cef42b71cd22",
   "metadata": {},
   "outputs": [],
   "source": [
    "test_traj_indc = 2822 # 183, 2712, 274, 2765, 2793, 2822, 3183 # Look for a selected single-cell trajectory \n",
    "cc_vals_micro_sctraj = []\n",
    "microstate_indc_sctraj = []\n",
    "for cond in range(n_conds):\n",
    "    indstm = inds_conditions[cond] # Condition Specific Indices\n",
    "    indstwm = np.intersect1d(indstm, indstw) # Indices of trajectory snippets within frame range (72 - 120)\n",
    "    x0 = Xpcat[indstwm, :] # keep trajectory snippets that are within the given frame range\n",
    "    ind_map_micro = clusters.transform(x0).astype(int)\n",
    "    for si in range(n_microstates):\n",
    "        ind_map = np.where(ind_map_micro == si)[0]\n",
    "        ind_map_Xpcat = indstwm[ind_map]\n",
    "        fid_micro_snippets = indframes_traj[ind_map_Xpcat].astype(int) # Map frame indices of snippets\n",
    "        indc_map_fulltraj_snippets = indmodel_traj_snippets[ind_map_Xpcat].astype(int) # Map Indices of Full Trajectory to Snippets \n",
    "        ################## Identify the \"FULL\" trajectory index and locate snippets within it ##################\n",
    "        for j, ind_fulltraj in enumerate(indc_map_fulltraj_snippets):\n",
    "            if ind_fulltraj == test_traj_indc:\n",
    "               possible_indices = np.where(frame_numbers[ind_fulltraj] == fid_micro_snippets[j])  \n",
    "               indc_ccvals_traj = possible_indices[0][0]\n",
    "               cc_vals = cross_correlations[ind_fulltraj][indc_ccvals_traj]\n",
    "               cc_vals_micro_sctraj.append(cc_vals)\n",
    "               microstate_indc_sctraj.append(si)\n",
    "cc_vals_micro_sctraj = np.array(cc_vals_micro_sctraj)\n",
    "microstate_indc_sctraj = np.array(microstate_indc_sctraj).astype(int)"
   ]
  },
  {
   "cell_type": "code",
   "execution_count": 108,
   "id": "d13a7370-13af-46eb-8fa5-7db2a3afb201",
   "metadata": {},
   "outputs": [
    {
     "data": {
      "text/plain": [
       "<Figure size 640x480 with 0 Axes>"
      ]
     },
     "metadata": {},
     "output_type": "display_data"
    },
    {
     "data": {
      "image/png": "[encoded data removed]",
      "text/plain": [
       "<Figure size 600x500 with 1 Axes>"
      ]
     },
     "metadata": {},
     "output_type": "display_data"
    }
   ],
   "source": [
    "plt.clf()\n",
    "plt.figure(figsize=(6, 5))\n",
    "\n",
    "average_cc_microstate = []\n",
    "\n",
    "for si in range(n_microstates):\n",
    "    cc_values = cc_values_by_microstates[0][si]\n",
    "    if len(cc_values) > 0:\n",
    "        average_cc_value = np.mean(cc_values)\n",
    "        average_cc_microstate.append(average_cc_value)\n",
    "average_cc_microstate = np.array(average_cc_microstate)\n",
    "\n",
    "average_cc_sctraj = []\n",
    "for i in range(microstate_indc_sctraj.size):\n",
    "    average_cc = average_cc_microstate[microstate_indc_sctraj[i]]\n",
    "    average_cc_sctraj.append(average_cc)\n",
    "\n",
    "average_cc_sctraj = np.array(average_cc_sctraj)\n",
    "plt.scatter(cc_vals_micro_sctraj, average_cc_sctraj, s=8)\n",
    "plt.title(f'{tmSet[0]}, Microstates: {n_microstates}')\n",
    "plt.xlabel('CC Values along a single-cell trajectory')\n",
    "plt.ylabel('Average CC values along a single-cell trajectory')\n",
    "plt.tight_layout()\n",
    "#plt.savefig(f\"cc_sctraj_{figid}_{n_microstates}_{test_traj_indc}.png\", dpi=500, bbox_inches='tight')\n",
    "plt.show()"
   ]
  },
  {
   "cell_type": "code",
   "execution_count": null,
   "id": "bf1d8aa6-a0f5-4539-91f3-dd0cd54f2637",
   "metadata": {},
   "outputs": [],
   "source": []
  }
 ],
 "metadata": {
  "kernelspec": {
   "display_name": "Single Cell dynMorph Analysis",
   "language": "python",
   "name": "sctmd"
  },
  "language_info": {
   "codemirror_mode": {
    "name": "ipython",
    "version": 3
   },
   "file_extension": ".py",
   "mimetype": "text/x-python",
   "name": "python",
   "nbconvert_exporter": "python",
   "pygments_lexer": "ipython3",
   "version": "3.9.19"
  }
 },
 "nbformat": 4,
 "nbformat_minor": 5
}
